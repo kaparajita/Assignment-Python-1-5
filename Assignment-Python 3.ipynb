{
 "cells": [
  {
   "cell_type": "code",
   "execution_count": 1,
   "metadata": {},
   "outputs": [
    {
     "name": "stdout",
     "output_type": "stream",
     "text": [
      "x is  0\n",
      "y is  1\n",
      "x is  1\n",
      "y is  2\n",
      "x is  2\n",
      "y is  3\n",
      "6\n"
     ]
    }
   ],
   "source": [
    "#1.1. Write a Python Program to implement your own myreduce() function which works exactly\n",
    "#like Python's built-in function reduce()\n",
    "\n",
    "#implement myreduce function\n",
    "def myreduce(func,mylist):\n",
    "    for val, val1 in enumerate(mylist):\n",
    "        result = multiply(val,val1)\n",
    "    return result\n",
    "    \n",
    "def multiply(x,y):\n",
    "    print('x is ',x)\n",
    "    print('y is ',y)\n",
    "    return x * y\n",
    "\n",
    "val = myreduce(multiply,range(1,4))\n",
    "print(val)"
   ]
  },
  {
   "cell_type": "code",
   "execution_count": 2,
   "metadata": {},
   "outputs": [
    {
     "name": "stdout",
     "output_type": "stream",
     "text": [
      "The filtered letters are:\n",
      "e\n",
      "e\n"
     ]
    }
   ],
   "source": [
    "#1.2. Write a Python program to implement your own myfilter() function which works exactly\n",
    "#like Python's built-in function filter()\n",
    "\n",
    "#myfilter\n",
    "\n",
    "def myfilter(func,mylist):\n",
    "    filteredlist = []\n",
    "    for i in mylist:\n",
    "        filteredvalue = func(i)\n",
    "        if(filteredvalue == True):\n",
    "            filteredlist.append(i)                \n",
    "    return filteredlist\n",
    "\n",
    "def vowels(value):\n",
    "    letters = ['a', 'e', 'i', 'o', 'u'] \n",
    "    if (value in letters): \n",
    "        return True\n",
    "    else: \n",
    "        return False\n",
    "    \n",
    "sequence = ['g', 'e', 'e', 'j', 'k', 's', 'p', 'r'] \n",
    "  \n",
    "# using filter function \n",
    "filtered = myfilter(vowels, sequence) \n",
    "  \n",
    "print('The filtered letters are:') \n",
    "for s in filtered: \n",
    "    print(s) "
   ]
  },
  {
   "cell_type": "code",
   "execution_count": 35,
   "metadata": {},
   "outputs": [
    {
     "data": {
      "text/plain": [
       "['A', 'C', 'A', 'D', 'G', 'I', 'L', 'D']"
      ]
     },
     "execution_count": 35,
     "metadata": {},
     "output_type": "execute_result"
    }
   ],
   "source": [
    "#2. Implement List comprehensions to produce the following lists.\n",
    "#Write List comprehensions to produce the following Lists.\n",
    "\n",
    "[val for val in list('ACADGILD')]"
   ]
  },
  {
   "cell_type": "code",
   "execution_count": 61,
   "metadata": {},
   "outputs": [
    {
     "data": {
      "text/plain": [
       "['x', 'xx', 'xxx', 'xxxx', 'y', 'yy', 'yyy', 'yyyy', 'z', 'zz', 'zzz', 'zzzz']"
      ]
     },
     "execution_count": 61,
     "metadata": {},
     "output_type": "execute_result"
    }
   ],
   "source": [
    "list1 = ['x','y','z']\n",
    "[val*n for val in list1 for n in range(1,5)]"
   ]
  },
  {
   "cell_type": "code",
   "execution_count": 62,
   "metadata": {},
   "outputs": [
    {
     "data": {
      "text/plain": [
       "['x', 'y', 'z', 'xx', 'yy', 'zz', 'xxx', 'yyy', 'zzz', 'xxxx', 'yyyy', 'zzzz']"
      ]
     },
     "execution_count": 62,
     "metadata": {},
     "output_type": "execute_result"
    }
   ],
   "source": [
    "list1 = ['x','y','z']\n",
    "[val*n for n in range(1,5) for val in list1]"
   ]
  },
  {
   "cell_type": "code",
   "execution_count": 50,
   "metadata": {},
   "outputs": [
    {
     "name": "stdout",
     "output_type": "stream",
     "text": [
      "[[2], [3], [4], [3], [4], [5], [4], [5], [6]]\n"
     ]
    }
   ],
   "source": [
    "list2 = [2,3,4,]\n",
    "value = [[val+n] for val in list2 for n in range(0,3)]\n",
    "print(value)"
   ]
  },
  {
   "cell_type": "code",
   "execution_count": 57,
   "metadata": {},
   "outputs": [
    {
     "data": {
      "text/plain": [
       "[2, 3, 4, 5, 3, 4, 5, 6, 4, 5, 6, 7, 5, 6, 7, 8]"
      ]
     },
     "execution_count": 57,
     "metadata": {},
     "output_type": "execute_result"
    }
   ],
   "source": [
    "list2 = [2,3,4,5]\n",
    "[val+n for val in list2 for n in range(0,4)]"
   ]
  },
  {
   "cell_type": "code",
   "execution_count": 44,
   "metadata": {},
   "outputs": [
    {
     "data": {
      "text/plain": [
       "[(1, 1), (2, 1), (3, 1), (1, 2), (2, 2), (3, 2), (1, 3), (2, 3), (3, 3)]"
      ]
     },
     "execution_count": 44,
     "metadata": {},
     "output_type": "execute_result"
    }
   ],
   "source": [
    "list3 = [1,2,3]\n",
    "[(j,i) for i in list3 for j in list3]"
   ]
  },
  {
   "cell_type": "code",
   "execution_count": 65,
   "metadata": {},
   "outputs": [
    {
     "name": "stdout",
     "output_type": "stream",
     "text": [
      "hello\n"
     ]
    }
   ],
   "source": [
    "#3. Implement a function longestWord() that takes a list of words and returns the longest one.\n",
    "\n",
    "def longestWord(mylist):\n",
    "    count = 0\n",
    "    for val in mylist:\n",
    "        if len(val)>count:\n",
    "            count = len(val)\n",
    "            word = val\n",
    "    print(word)        \n",
    "    \n",
    "longestWord(['hello','how','am'])"
   ]
  },
  {
   "cell_type": "code",
   "execution_count": null,
   "metadata": {},
   "outputs": [],
   "source": []
  }
 ],
 "metadata": {
  "kernelspec": {
   "display_name": "Python 3",
   "language": "python",
   "name": "python3"
  },
  "language_info": {
   "codemirror_mode": {
    "name": "ipython",
    "version": 3
   },
   "file_extension": ".py",
   "mimetype": "text/x-python",
   "name": "python",
   "nbconvert_exporter": "python",
   "pygments_lexer": "ipython3",
   "version": "3.7.3"
  }
 },
 "nbformat": 4,
 "nbformat_minor": 2
}
