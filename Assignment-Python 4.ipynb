{
 "cells": [
  {
   "cell_type": "code",
   "execution_count": 1,
   "metadata": {},
   "outputs": [
    {
     "name": "stdout",
     "output_type": "stream",
     "text": [
      "Enter lenght of first side  , 2\n",
      "Enter lenght of second side  , 3\n",
      "Enter lenght of third side  , 4\n",
      "2.9047375096555625\n"
     ]
    }
   ],
   "source": [
    "#1.1 Write a Python Program(with class concepts) to find the area of the triangle using the below formula.\n",
    "#area = (s*(s-a)*(s-b)*(s-c)) ** 0.5\n",
    "#Function to take the length of the sides of triangle from user should be defined in the parent \n",
    "#class and function to calculate the area should be defined in subclass.\n",
    "\n",
    "class Shape:\n",
    "  \n",
    "    def __init__(self, side1, side2, side3):\n",
    "\n",
    "        self.side1 = float(side1)\n",
    "        self.side2 = float(side2)\n",
    "        self.side3 = float(side3)\n",
    "        \n",
    "class Triangle(Shape):\n",
    "    def area(self):\n",
    "        s = (self.side1 +self.side2 + self.side3)/2\n",
    "        area = (s*(s-self.side1)*(s-self.side2)*(s-self.side3)) ** 0.5\n",
    "        print(area)\n",
    "    \n",
    "a=int(input('Enter lenght of first side  , '))\n",
    "b=int(input('Enter lenght of second side  , '))\n",
    "c=int(input('Enter lenght of third side  , '))\n",
    "mytriangle = Triangle(a,b,c)\n",
    "mytriangle.area()"
   ]
  },
  {
   "cell_type": "code",
   "execution_count": 10,
   "metadata": {},
   "outputs": [],
   "source": [
    "#1.2 Write a function filter_long_words() \n",
    "#that takes a list of words and an integer n and returns the list of words that are longer than n.\n",
    "def filter_long_words(wordList,integer):    \n",
    "    for word in wordList:\n",
    "        lengthWords = []\n",
    "        if len(word)>=integer:\n",
    "            lengthWords.append(word)\n",
    "            return lengthWords    "
   ]
  },
  {
   "cell_type": "code",
   "execution_count": 14,
   "metadata": {},
   "outputs": [
    {
     "name": "stdout",
     "output_type": "stream",
     "text": [
      "Enter the list of wordList  : hi hello how are you\n",
      "Enter the number  :3\n",
      "['hello']\n"
     ]
    }
   ],
   "source": [
    "wordList = input('Enter the list of wordList  : ').split()\n",
    "integer = int(input('Enter the number  :'))\n",
    "value = filter_long_words(wordList,integer)\n",
    "print(value)\n",
    " "
   ]
  },
  {
   "cell_type": "code",
   "execution_count": 15,
   "metadata": {},
   "outputs": [],
   "source": [
    "#2.1 Write a Python program using function concept that maps list of words into a list of integers \n",
    "#representing the lengths of the corresponding words.\n",
    "#Hint: If a list [ ab,cde,erty] is passed on to the python function output should come as [2,3,4]\n",
    "#Here 2,3 and 4 are the lengths of the words in the list.\n",
    "\n",
    "def list_of_lenght_words(words):\n",
    "    lenWords = []\n",
    "    for word in words:\n",
    "        value = len(word)\n",
    "        lenWords.append(value)\n",
    "    return lenWords    "
   ]
  },
  {
   "cell_type": "code",
   "execution_count": 16,
   "metadata": {},
   "outputs": [
    {
     "data": {
      "text/plain": [
       "[2, 3, 4]"
      ]
     },
     "execution_count": 16,
     "metadata": {},
     "output_type": "execute_result"
    }
   ],
   "source": [
    "list_of_lenght_words(['ab','cde','erty'])"
   ]
  },
  {
   "cell_type": "code",
   "execution_count": 1,
   "metadata": {},
   "outputs": [],
   "source": [
    "#2.2 Write a Python function which takes a character (i.e. a string of length 1) \n",
    "#and returns True if it is a vowel, False otherwise.\n",
    "\n",
    "def character_vowel_or_not(char):\n",
    "    if (char =='a'or char =='e'or char =='i'or char =='o' or char =='u'or char =='A'or char =='E'or char =='I'or char =='O' or char =='U'):\n",
    "        return True\n",
    "    else:\n",
    "        return False"
   ]
  },
  {
   "cell_type": "code",
   "execution_count": 2,
   "metadata": {},
   "outputs": [
    {
     "data": {
      "text/plain": [
       "True"
      ]
     },
     "execution_count": 2,
     "metadata": {},
     "output_type": "execute_result"
    }
   ],
   "source": [
    "character_vowel_or_not('A')"
   ]
  },
  {
   "cell_type": "code",
   "execution_count": 3,
   "metadata": {},
   "outputs": [
    {
     "data": {
      "text/plain": [
       "False"
      ]
     },
     "execution_count": 3,
     "metadata": {},
     "output_type": "execute_result"
    }
   ],
   "source": [
    "character_vowel_or_not('l')"
   ]
  },
  {
   "cell_type": "code",
   "execution_count": null,
   "metadata": {},
   "outputs": [],
   "source": []
  }
 ],
 "metadata": {
  "kernelspec": {
   "display_name": "Python 3",
   "language": "python",
   "name": "python3"
  },
  "language_info": {
   "codemirror_mode": {
    "name": "ipython",
    "version": 3
   },
   "file_extension": ".py",
   "mimetype": "text/x-python",
   "name": "python",
   "nbconvert_exporter": "python",
   "pygments_lexer": "ipython3",
   "version": "3.7.3"
  }
 },
 "nbformat": 4,
 "nbformat_minor": 2
}
